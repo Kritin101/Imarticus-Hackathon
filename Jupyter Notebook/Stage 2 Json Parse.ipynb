{
 "cells": [
  {
   "cell_type": "markdown",
   "id": "2aa850d5-b1b1-404f-ba5f-52c5f109b042",
   "metadata": {
    "jp-MarkdownHeadingCollapsed": true
   },
   "source": [
    "# Dependencies"
   ]
  },
  {
   "cell_type": "code",
   "execution_count": 29,
   "id": "934ffabf-c073-497b-b876-6a8864149e57",
   "metadata": {},
   "outputs": [],
   "source": [
    "import numpy as np\n",
    "import json\n",
    "import pandas as pd\n",
    "pd.set_option('display.max_columns', 10)\n",
    "\n",
    "from sklearn.ensemble import RandomForestClassifier, RandomForestRegressor\n",
    "from sklearn.linear_model import LinearRegression, LogisticRegression, Ridge, Lasso, ElasticNet\n",
    "from sklearn.tree import DecisionTreeClassifier, DecisionTreeRegressor\n",
    "from sklearn.svm import SVC, SVR\n",
    "from sklearn.neighbors import KNeighborsClassifier, KNeighborsRegressor\n",
    "from sklearn.neural_network import MLPClassifier, MLPRegressor\n",
    "\n",
    "from sklearn.model_selection import train_test_split\n",
    "from sklearn.metrics import accuracy_score, mean_squared_error\n",
    "from xgboost import XGBClassifier, XGBRegressor\n",
    "\n",
    "from sklearn.model_selection import GridSearchCV\n",
    "from sklearn.base import is_classifier"
   ]
  },
  {
   "cell_type": "code",
   "execution_count": 30,
   "id": "14227cd8-ea40-448b-93c7-6113d915fcd5",
   "metadata": {},
   "outputs": [
    {
     "name": "stdout",
     "output_type": "stream",
     "text": [
      "scikit-learn version: 1.2.2\n"
     ]
    }
   ],
   "source": [
    "import sklearn\n",
    "print(\"scikit-learn version:\", sklearn.__version__)"
   ]
  },
  {
   "cell_type": "markdown",
   "id": "d0a3c3a6-a75d-4234-9a49-82dc435c0e37",
   "metadata": {
    "jp-MarkdownHeadingCollapsed": true
   },
   "source": [
    "# Importing data"
   ]
  },
  {
   "cell_type": "code",
   "execution_count": 31,
   "id": "8c8f9c17-9fa9-4ace-99a4-25b428573c7e",
   "metadata": {},
   "outputs": [],
   "source": [
    "df = pd.read_csv(r\"C:\\Users\\Kritin\\Desktop\\Imarticus\\Hackathon\\Stage 2\\iris_modified.csv\")"
   ]
  },
  {
   "cell_type": "code",
   "execution_count": 32,
   "id": "3f3c3a41-8fca-4522-bca2-a20cb9550c05",
   "metadata": {},
   "outputs": [
    {
     "data": {
      "text/html": [
       "<div>\n",
       "<style scoped>\n",
       "    .dataframe tbody tr th:only-of-type {\n",
       "        vertical-align: middle;\n",
       "    }\n",
       "\n",
       "    .dataframe tbody tr th {\n",
       "        vertical-align: top;\n",
       "    }\n",
       "\n",
       "    .dataframe thead th {\n",
       "        text-align: right;\n",
       "    }\n",
       "</style>\n",
       "<table border=\"1\" class=\"dataframe\">\n",
       "  <thead>\n",
       "    <tr style=\"text-align: right;\">\n",
       "      <th></th>\n",
       "      <th>sepal_length</th>\n",
       "      <th>sepal_width</th>\n",
       "      <th>petal_length</th>\n",
       "      <th>petal_width</th>\n",
       "      <th>species</th>\n",
       "    </tr>\n",
       "  </thead>\n",
       "  <tbody>\n",
       "    <tr>\n",
       "      <th>0</th>\n",
       "      <td>5.1</td>\n",
       "      <td>3.5</td>\n",
       "      <td>1.4</td>\n",
       "      <td>0.2</td>\n",
       "      <td>Iris-setosa</td>\n",
       "    </tr>\n",
       "    <tr>\n",
       "      <th>1</th>\n",
       "      <td>4.9</td>\n",
       "      <td>3.0</td>\n",
       "      <td>1.4</td>\n",
       "      <td>0.2</td>\n",
       "      <td>Iris-setosa</td>\n",
       "    </tr>\n",
       "    <tr>\n",
       "      <th>2</th>\n",
       "      <td>4.7</td>\n",
       "      <td>3.2</td>\n",
       "      <td>1.3</td>\n",
       "      <td>0.2</td>\n",
       "      <td>Iris-setosa</td>\n",
       "    </tr>\n",
       "    <tr>\n",
       "      <th>3</th>\n",
       "      <td>4.6</td>\n",
       "      <td>3.1</td>\n",
       "      <td>1.5</td>\n",
       "      <td>0.2</td>\n",
       "      <td>Iris-setosa</td>\n",
       "    </tr>\n",
       "    <tr>\n",
       "      <th>4</th>\n",
       "      <td>5.0</td>\n",
       "      <td>3.6</td>\n",
       "      <td>1.4</td>\n",
       "      <td>0.2</td>\n",
       "      <td>Iris-setosa</td>\n",
       "    </tr>\n",
       "  </tbody>\n",
       "</table>\n",
       "</div>"
      ],
      "text/plain": [
       "   sepal_length  sepal_width  petal_length  petal_width      species\n",
       "0           5.1          3.5           1.4          0.2  Iris-setosa\n",
       "1           4.9          3.0           1.4          0.2  Iris-setosa\n",
       "2           4.7          3.2           1.3          0.2  Iris-setosa\n",
       "3           4.6          3.1           1.5          0.2  Iris-setosa\n",
       "4           5.0          3.6           1.4          0.2  Iris-setosa"
      ]
     },
     "execution_count": 32,
     "metadata": {},
     "output_type": "execute_result"
    }
   ],
   "source": [
    "df.head()"
   ]
  },
  {
   "cell_type": "code",
   "execution_count": 33,
   "id": "1e325caf-b889-43fc-b0e7-df5d04785954",
   "metadata": {},
   "outputs": [
    {
     "data": {
      "text/plain": [
       "(150, 5)"
      ]
     },
     "execution_count": 33,
     "metadata": {},
     "output_type": "execute_result"
    }
   ],
   "source": [
    "df.shape"
   ]
  },
  {
   "cell_type": "code",
   "execution_count": 34,
   "id": "f0903cf9-e932-48d5-8a02-888eab2fb3e3",
   "metadata": {},
   "outputs": [],
   "source": [
    "json_file = \"C:/Users/Kritin/Desktop/Imarticus/Hackathon/Stage 2/algoparams_from_ui1.json\"\n",
    "with open(json_file, 'r') as f:\n",
    "    config = json.load(f)"
   ]
  },
  {
   "cell_type": "code",
   "execution_count": 57,
   "id": "57998cc8-81d3-41e1-8fec-218fa31e5876",
   "metadata": {},
   "outputs": [
    {
     "name": "stdout",
     "output_type": "stream",
     "text": [
      "[None, 20, 30]\n"
     ]
    }
   ],
   "source": [
    "test = [None, config.get(\"design_state_data\").get(\"algorithms\").get(\"RandomForestClassifier\").get(\"min_depth\"), config.get(\"design_state_data\").get(\"algorithms\").get(\"RandomForestClassifier\").get(\"max_depth\")]\n",
    "print(test)"
   ]
  },
  {
   "cell_type": "markdown",
   "id": "52f9c36b-8c97-42b8-993e-ff754cf7aa6d",
   "metadata": {
    "jp-MarkdownHeadingCollapsed": true
   },
   "source": [
    "# Feature handling"
   ]
  },
  {
   "cell_type": "markdown",
   "id": "df8eba65-0d2e-4fb6-8196-bd78db99a075",
   "metadata": {},
   "source": [
    "### Feature Elimination"
   ]
  },
  {
   "cell_type": "code",
   "execution_count": 36,
   "id": "c903ab22-ef7c-4860-ace6-d5374f966dff",
   "metadata": {},
   "outputs": [],
   "source": [
    "feature_handling = config.get(\"design_state_data\", {}).get(\"feature_handling\", {})\n",
    "for feature, details in feature_handling.items():\n",
    "    if not details.get(\"is_selected\", True):\n",
    "        df.drop(columns=feature, inplace=True)\n",
    "\n",
    "# for feature, details in feature_handling.items(): This line iterates over each item (key-value pair)\n",
    "# in the feature_handling dictionary. Each item corresponds to a feature (key) and its details (value).\n",
    "# if not details.get(\"is_selected\", True): Inside the loop, it checks if the value of \"is_selected\" in the details dictionary is False."
   ]
  },
  {
   "cell_type": "code",
   "execution_count": 37,
   "id": "177fd762-0398-4643-9bac-53b944bc8bbe",
   "metadata": {},
   "outputs": [
    {
     "data": {
      "text/plain": [
       "(150, 4)"
      ]
     },
     "execution_count": 37,
     "metadata": {},
     "output_type": "execute_result"
    }
   ],
   "source": [
    "df.shape"
   ]
  },
  {
   "cell_type": "code",
   "execution_count": 38,
   "id": "3bee562e-36f6-4a9d-9c30-c0717c41699b",
   "metadata": {},
   "outputs": [
    {
     "data": {
      "text/html": [
       "<div>\n",
       "<style scoped>\n",
       "    .dataframe tbody tr th:only-of-type {\n",
       "        vertical-align: middle;\n",
       "    }\n",
       "\n",
       "    .dataframe tbody tr th {\n",
       "        vertical-align: top;\n",
       "    }\n",
       "\n",
       "    .dataframe thead th {\n",
       "        text-align: right;\n",
       "    }\n",
       "</style>\n",
       "<table border=\"1\" class=\"dataframe\">\n",
       "  <thead>\n",
       "    <tr style=\"text-align: right;\">\n",
       "      <th></th>\n",
       "      <th>sepal_length</th>\n",
       "      <th>sepal_width</th>\n",
       "      <th>petal_length</th>\n",
       "      <th>species</th>\n",
       "    </tr>\n",
       "  </thead>\n",
       "  <tbody>\n",
       "    <tr>\n",
       "      <th>0</th>\n",
       "      <td>5.1</td>\n",
       "      <td>3.5</td>\n",
       "      <td>1.4</td>\n",
       "      <td>Iris-setosa</td>\n",
       "    </tr>\n",
       "    <tr>\n",
       "      <th>1</th>\n",
       "      <td>4.9</td>\n",
       "      <td>3.0</td>\n",
       "      <td>1.4</td>\n",
       "      <td>Iris-setosa</td>\n",
       "    </tr>\n",
       "    <tr>\n",
       "      <th>2</th>\n",
       "      <td>4.7</td>\n",
       "      <td>3.2</td>\n",
       "      <td>1.3</td>\n",
       "      <td>Iris-setosa</td>\n",
       "    </tr>\n",
       "    <tr>\n",
       "      <th>3</th>\n",
       "      <td>4.6</td>\n",
       "      <td>3.1</td>\n",
       "      <td>1.5</td>\n",
       "      <td>Iris-setosa</td>\n",
       "    </tr>\n",
       "    <tr>\n",
       "      <th>4</th>\n",
       "      <td>5.0</td>\n",
       "      <td>3.6</td>\n",
       "      <td>1.4</td>\n",
       "      <td>Iris-setosa</td>\n",
       "    </tr>\n",
       "  </tbody>\n",
       "</table>\n",
       "</div>"
      ],
      "text/plain": [
       "   sepal_length  sepal_width  petal_length      species\n",
       "0           5.1          3.5           1.4  Iris-setosa\n",
       "1           4.9          3.0           1.4  Iris-setosa\n",
       "2           4.7          3.2           1.3  Iris-setosa\n",
       "3           4.6          3.1           1.5  Iris-setosa\n",
       "4           5.0          3.6           1.4  Iris-setosa"
      ]
     },
     "execution_count": 38,
     "metadata": {},
     "output_type": "execute_result"
    }
   ],
   "source": [
    "df.head()"
   ]
  },
  {
   "cell_type": "markdown",
   "id": "5ce6de84-a73f-489c-bc09-54c26b7f14dd",
   "metadata": {},
   "source": [
    "### Handling Missing Values"
   ]
  },
  {
   "cell_type": "code",
   "execution_count": 39,
   "id": "d09b78fe-61a2-4cbd-a5a6-85ccbf22c028",
   "metadata": {},
   "outputs": [],
   "source": [
    "feature_handling = config.get(\"design_state_data\", {}).get(\"feature_handling\", {})\n",
    "for feature, details in feature_handling.items():\n",
    "    feature_name = details.get(\"feature_name\")\n",
    "    if feature_name in df.columns:\n",
    "        if details.get(\"missing_values\") == \"Impute\":\n",
    "            impute_value = details.get(\"impute_with\", \"mean\") # It retrieves the imputation method specified in the \"impute_with\" key from the details dictionary. If \"impute_with\" key is not specified, it defaults to \"mean\".\n",
    "            if impute_value == \"Average of values\":\n",
    "                df[feature_name].fillna(data[feature_name].mean(), inplace=True)\n",
    "            elif impute_value == \"median\":\n",
    "                df[feature_name].fillna(data[feature_name].median(), inplace=True)\n",
    "            elif impute_value == \"mode\":\n",
    "                df[feature_name].fillna(data[feature_name].mode()[0], inplace=True)\n",
    "            elif impute_value == \"Tokenize and hash\":\n",
    "                df[feature_name].fillna(data[feature_name].apply(lambda x: hashlib.sha256(x.encode()).hexdigest()), inplace=True)"
   ]
  },
  {
   "cell_type": "code",
   "execution_count": 40,
   "id": "8d68d93e-34f9-4935-aa57-5fcb35b382b7",
   "metadata": {},
   "outputs": [
    {
     "data": {
      "text/plain": [
       "(150, 4)"
      ]
     },
     "execution_count": 40,
     "metadata": {},
     "output_type": "execute_result"
    }
   ],
   "source": [
    "df.shape"
   ]
  },
  {
   "cell_type": "code",
   "execution_count": 41,
   "id": "66ab9bfe-67f2-4873-aaa1-bf5a8eb1a529",
   "metadata": {},
   "outputs": [
    {
     "data": {
      "text/html": [
       "<div>\n",
       "<style scoped>\n",
       "    .dataframe tbody tr th:only-of-type {\n",
       "        vertical-align: middle;\n",
       "    }\n",
       "\n",
       "    .dataframe tbody tr th {\n",
       "        vertical-align: top;\n",
       "    }\n",
       "\n",
       "    .dataframe thead th {\n",
       "        text-align: right;\n",
       "    }\n",
       "</style>\n",
       "<table border=\"1\" class=\"dataframe\">\n",
       "  <thead>\n",
       "    <tr style=\"text-align: right;\">\n",
       "      <th></th>\n",
       "      <th>sepal_length</th>\n",
       "      <th>sepal_width</th>\n",
       "      <th>petal_length</th>\n",
       "      <th>species</th>\n",
       "    </tr>\n",
       "  </thead>\n",
       "  <tbody>\n",
       "    <tr>\n",
       "      <th>0</th>\n",
       "      <td>5.1</td>\n",
       "      <td>3.5</td>\n",
       "      <td>1.4</td>\n",
       "      <td>Iris-setosa</td>\n",
       "    </tr>\n",
       "    <tr>\n",
       "      <th>1</th>\n",
       "      <td>4.9</td>\n",
       "      <td>3.0</td>\n",
       "      <td>1.4</td>\n",
       "      <td>Iris-setosa</td>\n",
       "    </tr>\n",
       "    <tr>\n",
       "      <th>2</th>\n",
       "      <td>4.7</td>\n",
       "      <td>3.2</td>\n",
       "      <td>1.3</td>\n",
       "      <td>Iris-setosa</td>\n",
       "    </tr>\n",
       "    <tr>\n",
       "      <th>3</th>\n",
       "      <td>4.6</td>\n",
       "      <td>3.1</td>\n",
       "      <td>1.5</td>\n",
       "      <td>Iris-setosa</td>\n",
       "    </tr>\n",
       "    <tr>\n",
       "      <th>4</th>\n",
       "      <td>5.0</td>\n",
       "      <td>3.6</td>\n",
       "      <td>1.4</td>\n",
       "      <td>Iris-setosa</td>\n",
       "    </tr>\n",
       "  </tbody>\n",
       "</table>\n",
       "</div>"
      ],
      "text/plain": [
       "   sepal_length  sepal_width  petal_length      species\n",
       "0           5.1          3.5           1.4  Iris-setosa\n",
       "1           4.9          3.0           1.4  Iris-setosa\n",
       "2           4.7          3.2           1.3  Iris-setosa\n",
       "3           4.6          3.1           1.5  Iris-setosa\n",
       "4           5.0          3.6           1.4  Iris-setosa"
      ]
     },
     "execution_count": 41,
     "metadata": {},
     "output_type": "execute_result"
    }
   ],
   "source": [
    "df.head()"
   ]
  },
  {
   "cell_type": "markdown",
   "id": "81f88270-ed4d-451c-af55-cc0fb61a56b5",
   "metadata": {
    "jp-MarkdownHeadingCollapsed": true
   },
   "source": [
    "# Splitting the data"
   ]
  },
  {
   "cell_type": "code",
   "execution_count": 42,
   "id": "a693eccc-c476-486f-833e-af9b7a09fea6",
   "metadata": {},
   "outputs": [],
   "source": [
    "target = config[\"design_state_data\"][\"target\"][\"target\"]"
   ]
  },
  {
   "cell_type": "code",
   "execution_count": 43,
   "id": "02647922-3083-4ae9-94db-b8100b8d709c",
   "metadata": {},
   "outputs": [],
   "source": [
    "X = df.drop(columns=[target])\n",
    "y = df[target]"
   ]
  },
  {
   "cell_type": "code",
   "execution_count": 44,
   "id": "51c0dac7-540a-42c4-869d-4180359ecf1c",
   "metadata": {},
   "outputs": [
    {
     "name": "stdout",
     "output_type": "stream",
     "text": [
      "(150, 3)\n",
      "(150,)\n"
     ]
    }
   ],
   "source": [
    "print(X.shape)\n",
    "print(y.shape)"
   ]
  },
  {
   "cell_type": "code",
   "execution_count": 45,
   "id": "d3d72970-8448-43bb-8efa-5e6dacc892a9",
   "metadata": {},
   "outputs": [
    {
     "data": {
      "text/html": [
       "<div>\n",
       "<style scoped>\n",
       "    .dataframe tbody tr th:only-of-type {\n",
       "        vertical-align: middle;\n",
       "    }\n",
       "\n",
       "    .dataframe tbody tr th {\n",
       "        vertical-align: top;\n",
       "    }\n",
       "\n",
       "    .dataframe thead th {\n",
       "        text-align: right;\n",
       "    }\n",
       "</style>\n",
       "<table border=\"1\" class=\"dataframe\">\n",
       "  <thead>\n",
       "    <tr style=\"text-align: right;\">\n",
       "      <th></th>\n",
       "      <th>sepal_length</th>\n",
       "      <th>sepal_width</th>\n",
       "      <th>petal_length</th>\n",
       "    </tr>\n",
       "  </thead>\n",
       "  <tbody>\n",
       "    <tr>\n",
       "      <th>0</th>\n",
       "      <td>5.1</td>\n",
       "      <td>3.5</td>\n",
       "      <td>1.4</td>\n",
       "    </tr>\n",
       "    <tr>\n",
       "      <th>1</th>\n",
       "      <td>4.9</td>\n",
       "      <td>3.0</td>\n",
       "      <td>1.4</td>\n",
       "    </tr>\n",
       "    <tr>\n",
       "      <th>2</th>\n",
       "      <td>4.7</td>\n",
       "      <td>3.2</td>\n",
       "      <td>1.3</td>\n",
       "    </tr>\n",
       "    <tr>\n",
       "      <th>3</th>\n",
       "      <td>4.6</td>\n",
       "      <td>3.1</td>\n",
       "      <td>1.5</td>\n",
       "    </tr>\n",
       "    <tr>\n",
       "      <th>4</th>\n",
       "      <td>5.0</td>\n",
       "      <td>3.6</td>\n",
       "      <td>1.4</td>\n",
       "    </tr>\n",
       "  </tbody>\n",
       "</table>\n",
       "</div>"
      ],
      "text/plain": [
       "   sepal_length  sepal_width  petal_length\n",
       "0           5.1          3.5           1.4\n",
       "1           4.9          3.0           1.4\n",
       "2           4.7          3.2           1.3\n",
       "3           4.6          3.1           1.5\n",
       "4           5.0          3.6           1.4"
      ]
     },
     "execution_count": 45,
     "metadata": {},
     "output_type": "execute_result"
    }
   ],
   "source": [
    "X.head()"
   ]
  },
  {
   "cell_type": "code",
   "execution_count": 46,
   "id": "70fb8ae8-2ce2-4239-8f30-ec433d6f3186",
   "metadata": {},
   "outputs": [
    {
     "data": {
      "text/plain": [
       "0         Iris-setosa\n",
       "1         Iris-setosa\n",
       "2         Iris-setosa\n",
       "3         Iris-setosa\n",
       "4         Iris-setosa\n",
       "            ...      \n",
       "145    Iris-virginica\n",
       "146    Iris-virginica\n",
       "147    Iris-virginica\n",
       "148    Iris-virginica\n",
       "149    Iris-virginica\n",
       "Name: species, Length: 150, dtype: object"
      ]
     },
     "execution_count": 46,
     "metadata": {},
     "output_type": "execute_result"
    }
   ],
   "source": [
    "y"
   ]
  },
  {
   "cell_type": "markdown",
   "id": "733361cd-e3e7-4c92-b9c1-e8febbd3e3ae",
   "metadata": {
    "jp-MarkdownHeadingCollapsed": true
   },
   "source": [
    "# Model Building"
   ]
  },
  {
   "cell_type": "markdown",
   "id": "cbc057d5-1b09-47cd-9d27-3bce21dc00bc",
   "metadata": {
    "jp-MarkdownHeadingCollapsed": true
   },
   "source": [
    "### For my reference"
   ]
  },
  {
   "cell_type": "code",
   "execution_count": 47,
   "id": "fb0171d6-2d17-43c4-b2bb-80c0a069d844",
   "metadata": {},
   "outputs": [],
   "source": [
    "\n",
    "#   {\n",
    "#  'RandomForestClassifier': {'model_name': 'Random Forest Classifier', 'is_selected': True, 'min_trees': 10, 'max_trees': 30, 'feature_sampling_statergy': 'Default', 'min_depth': 20, 'max_depth': 30, 'min_samples_per_leaf_min_value': 5, 'min_samples_per_leaf_max_value': 50, 'parallelism': 0},\n",
    "#  'RandomForestRegressor': {'model_name': 'Random Forest Regressor', 'is_selected': False, 'min_trees': 10, 'max_trees': 20, 'feature_sampling_statergy': 'Default', 'min_depth': 20, 'max_depth': 25, 'min_samples_per_leaf_min_value': 5, 'min_samples_per_leaf_max_value': 10, 'parallelism': 0}, \n",
    "#  'LinearRegression': {'model_name': 'LinearRegression', 'is_selected': False, 'parallelism': 2, 'min_iter': 30, 'max_iter': 50, 'min_regparam': 0.5, 'max_regparam': 0.8, 'min_elasticnet': 0.5, 'max_elasticnet': 0.8}, \n",
    "#  'LogisticRegression': {'model_name': 'LogisticRegression', 'is_selected': False, 'parallelism': 2, 'min_iter': 30, 'max_iter': 50, 'min_regparam': 0.5, 'max_regparam': 0.8, 'min_elasticnet': 0.5, 'max_elasticnet': 0.8}, \n",
    "#  'RidgeRegression': {'model_name': 'RidgeRegression', 'is_selected': False, 'regularization_term': 'Specify values to test', 'min_iter': 30, 'max_iter': 50, 'min_regparam': 0.5, 'max_regparam': 0.8}, \n",
    "#  'LassoRegression': {'model_name': 'Lasso Regression', 'is_selected': False, 'regularization_term': 'Specify values to test', 'min_iter': 30, 'max_iter': 50, 'min_regparam': 0.5, 'max_regparam': 0.8}, \n",
    "#  'ElasticNetRegression': {'model_name': 'Lasso Regression', 'is_selected': False, 'regularization_term': 'Specify values to test', 'min_iter': 30, 'max_iter': 50, 'min_regparam': 0.5, 'max_regparam': 0.8, 'min_elasticnet': 0.5, 'max_elasticnet': 0.8}, \n",
    "#  'xg_boost': {'model_name': 'XG Boost', 'is_selected': False, 'use_gradient_boosted_tree': True, 'dart': True, 'tree_method': '', 'random_state': 0, 'max_num_of_trees': 0, 'early_stopping': True, 'early_stopping_rounds': 2, 'max_depth_of_tree': [56, 89], 'learningRate': [89, 76], 'l1_regularization': [77], 'l2_regularization': [78], 'gamma': [68], 'min_child_weight': [67], 'sub_sample': [67], 'col_sample_by_tree': [67], 'replace_missing_values': False, 'parallelism': 0}, \n",
    "#  'DecisionTreeRegressor': {'model_name': 'Decision Tree', 'is_selected': False, 'min_depth': 4, 'max_depth': 7, 'use_gini': False, 'use_entropy': True, 'min_samples_per_leaf': [12, 6], 'use_best': True, 'use_random': True}, \n",
    "#  'DecisionTreeClassifier': {'model_name': 'Decision Tree', 'is_selected': True, 'min_depth': 4, 'max_depth': 7, 'use_gini': False, 'use_entropy': True, 'min_samples_per_leaf': [12, 6], 'use_best': True, 'use_random': False}, \n",
    "#  'SVM': {'model_name': 'Support Vector Machine', 'is_selected': False, 'linear_kernel': True, 'rep_kernel': True, 'polynomial_kernel': True, 'sigmoid_kernel': True, 'c_value': [566, 79], 'auto': True, 'scale': True, 'custom_gamma_values': True, 'tolerance': 7, 'max_iterations': 7}, \n",
    "#  'KNN': {'model_name': 'KNN', 'is_selected': False, 'k_value': [78], 'distance_weighting': True, 'neighbour_finding_algorithm': 'Automatic', 'random_state': 0, 'p_value': 0}, \n",
    "#  'neural_network': {'model_name': 'Neural Network', 'is_selected': False, 'hidden_layer_sizes': [67, 89], 'activation': '', 'alpha_value': 0, 'max_iterations': 0, 'convergence_tolerance': 0, 'early_stopping': True, 'solver': 'ADAM', 'shuffle_data': True, 'initial_learning_rate': 0, 'automatic_batching': True, 'beta_1': 0, 'beta_2': 0, 'epsilon': 0, 'power_t': 0, 'momentum': 0, 'use_nesterov_momentum': False}\n",
    "#   }"
   ]
  },
  {
   "cell_type": "markdown",
   "id": "aa237703-fb39-46b2-b17f-b119cb0cc10e",
   "metadata": {
    "jp-MarkdownHeadingCollapsed": true
   },
   "source": [
    "### Fetching the Algorithms to be built"
   ]
  },
  {
   "cell_type": "code",
   "execution_count": 48,
   "id": "f73d4042-6fa0-469e-b766-f2d1f21e20f9",
   "metadata": {},
   "outputs": [
    {
     "name": "stdout",
     "output_type": "stream",
     "text": [
      "Selected Algorithms\n",
      "Model Family: RandomForestClassifier\n",
      "Model: Random Forest Classifier\n",
      "\n",
      "Model Family: DecisionTreeClassifier\n",
      "Model: Decision Tree\n",
      "\n"
     ]
    }
   ],
   "source": [
    "# Initialize selected_algorithms dictionary\n",
    "selected_algorithms = {}\n",
    "\n",
    "# Iterate over algorithms and select the ones that are marked as selected\n",
    "algorithms = config.get(\"design_state_data\", {}).get(\"algorithms\", {})\n",
    "for algorithm, details in algorithms.items():\n",
    "    if details.get(\"is_selected\"):\n",
    "        # Extract model name\n",
    "        model_name = details.get(\"model_name\")\n",
    "        selected_algorithms[algorithm] = model_name\n",
    "\n",
    "\n",
    "# Print selected algorithms\n",
    "print(\"Selected Algorithms\")\n",
    "for algorithm, model_name in selected_algorithms.items():\n",
    "    print(f\"Model Family: {algorithm}\")\n",
    "    print(f\"Model: {model_name}\")\n",
    "    print(\"\")"
   ]
  },
  {
   "cell_type": "markdown",
   "id": "c2446e7e-491c-42a8-ad02-febeda772561",
   "metadata": {
    "jp-MarkdownHeadingCollapsed": true
   },
   "source": [
    "### Splitting data into training and testing sets"
   ]
  },
  {
   "cell_type": "code",
   "execution_count": 49,
   "id": "85115b89-4f4e-4a1d-b46a-2bd581f88e60",
   "metadata": {},
   "outputs": [
    {
     "name": "stdout",
     "output_type": "stream",
     "text": [
      "X_train: (120, 3)\n",
      "y_train: (120,)\n",
      "X_test: (30, 3)\n",
      "y_test: (30,)\n"
     ]
    }
   ],
   "source": [
    "random_state = config.get(\"design_state_data\").get(\"train\").get(\"random_seed\")\n",
    "train_ratio = config.get(\"design_state_data\").get(\"train\").get(\"train_ratio\")\n",
    "\n",
    "X_train, X_test, y_train, y_test = train_test_split(X, y, train_size=train_ratio, random_state=random_state)\n",
    "\n",
    "print(\"X_train:\",X_train.shape)\n",
    "print(\"y_train:\",y_train.shape)\n",
    "print(\"X_test:\",X_test.shape)\n",
    "print(\"y_test:\",y_test.shape)"
   ]
  },
  {
   "cell_type": "markdown",
   "id": "af71438b-aa01-4f0e-bab7-761074022343",
   "metadata": {
    "jp-MarkdownHeadingCollapsed": true
   },
   "source": [
    "### Dictionary mapping model names to their respective classes"
   ]
  },
  {
   "cell_type": "code",
   "execution_count": 50,
   "id": "6c0ee0e1-ceb0-4229-aad1-c801bc275bdc",
   "metadata": {},
   "outputs": [],
   "source": [
    "model_classes = {\n",
    "    \"Random Forest Classifier\": RandomForestClassifier,\n",
    "    \"Random Forest Regressor\": RandomForestRegressor,\n",
    "    \"LinearRegression\": LinearRegression,\n",
    "    \"LogisticRegression\": LogisticRegression,\n",
    "    \"RidgeRegression\": Ridge,\n",
    "    \"Lasso Regression\": Lasso,\n",
    "    \"ElasticNet Regression\": ElasticNet,\n",
    "    \"Decision Tree\": DecisionTreeClassifier,\n",
    "    \"Decision Tree Regressor\": DecisionTreeRegressor,\n",
    "    \"Support Vector Machine\": SVC,\n",
    "    \"Support Vector Regression\": SVR,\n",
    "    \"KNN\": KNeighborsClassifier,\n",
    "    \"KNN Regressor\": KNeighborsRegressor,\n",
    "    \"Neural Network Classifier\": MLPClassifier,\n",
    "    \"Neural Network Regressor\": MLPRegressor,\n",
    "    \"XG Boost\": XGBClassifier,\n",
    "    \"XG Boost Regressor\": XGBRegressor\n",
    "}"
   ]
  },
  {
   "cell_type": "markdown",
   "id": "bc578bfa-3547-47d8-b60c-38ae1864f906",
   "metadata": {
    "jp-MarkdownHeadingCollapsed": true
   },
   "source": [
    "### Store This (Experimentation)"
   ]
  },
  {
   "cell_type": "code",
   "execution_count": 51,
   "id": "e63c14f3-93f2-40e0-ab4b-a18ea85f703a",
   "metadata": {},
   "outputs": [],
   "source": [
    "# # Hyperparameters\n",
    "        # hyperparameters = {}\n",
    "        \n",
    "        # # Adjust hyperparameters based on model type\n",
    "        # if model_name == \"Random Forest Classifier\" or model_name == \"Random Forest Regressor\":\n",
    "        #     hyperparameters.update({\n",
    "        #         \"n_estimators\": details.get(\"max_trees\"),\n",
    "        #         \"max_depth\": details.get(\"max_depth\"),\n",
    "        #         \"min_samples_split\": details.get(\"min_samples_per_leaf_min_value\"),\n",
    "        #         \"min_samples_leaf\": details.get(\"min_samples_per_leaf_max_value\"),\n",
    "        #         \"random_state\": details.get(\"random_seed\"),\n",
    "        #         \"max_features\": None if details.get(\"feature_sampling_statergy\") == \"Default\" else details.get(\"feature_sampling_statergy\")\n",
    "        #     })\n",
    "        # elif model_name == \"Random Forest Regressor\":\n",
    "        #     hyperparameters.update({\n",
    "        #         \"n_estimators\": details.get(\"max_trees\"),\n",
    "        #         \"max_depth\": details.get(\"max_depth\"),\n",
    "        #         \"min_samples_split\": details.get(\"min_samples_per_leaf_min_value\"),\n",
    "        #         \"min_samples_leaf\": details.get(\"min_samples_per_leaf_max_value\"),\n",
    "        #         \"random_state\": details.get(\"random_seed\"),\n",
    "        #         \"max_features\": None if details.get(\"feature_sampling_statergy\") == \"Default\" else details.get(\"feature_sampling_statergy\")\n",
    "        #     })\n",
    "        # elif model_name == \"LinearRegression\":\n",
    "        #     hyperparameters.update({\n",
    "        #         \"fit_intercept\": details.get(\"fit_intercept\"),\n",
    "        #         \"normalize\": details.get(\"normalize\")\n",
    "        #     })\n",
    "        # elif model_name == \"LogisticRegression\":\n",
    "        #     hyperparameters.update({\n",
    "        #         \"max_iter\" : details.get(\"max_iter\")\n",
    "        #     })\n",
    "        # elif model_name == \"RidgeRegression\":\n",
    "        #     hyperparameters.update({\n",
    "        #         \"max_iter\" : details.get(\"max_iter\")\n",
    "        #     })\n",
    "        # elif model_name == \"Lasso Regression\":\n",
    "        #     hyperparameters.update({\n",
    "        #         \"max_iter\" : details.get(\"max_iter\")\n",
    "        #     })\n",
    "        # elif model_name == \"Lasso Regression\":\n",
    "        #     hyperparameters.update({\n",
    "        #         \"max_iter\" : details.get(\"max_iter\")\n",
    "        #     })\n",
    "        # elif model_name == \"XG Boost\":\n",
    "        #     hyperparameters.update({\n",
    "        #         \"random_state\" : details.get(\"random_state\"),\n",
    "        #         \"max_leaves\" : details.get(\"max_num_of_trees\"),\n",
    "        #         \"early_stopping_rounds\" : details.get(\"early_stopping_rounds\"),\n",
    "        #         \"max_depth\" : details.get(\"max_depth_of_tree\"),\n",
    "        #         \"learningRate\" : details.get(learningRate\"),\n",
    "        #         \"min_child_weight\" : details.get(\"min_child_weight\"),\n",
    "        #         \"subsample\" : details.get(\"sub_sample\"),\n",
    "        #         \"colsample_by_tree\" : details.get(\"col_sample_by_tree\"),\n",
    "        #         \"gamma\" : details.get(\"gamma\")\n",
    "        #         \"num_parallel_tree\" : details.get(\"parallelism\"),\n",
    "        #         \"reg_lambda\" : details.get(\"l2_regularization\"),\n",
    "        #         \"reg_alpha\" : details.get(\"l1_regularization\")\n",
    "        #     })\n",
    "        # elif model_name == \"Decision Tree\" and algorithms == \"DecisionTreeRegressor\":\n",
    "        #     hyperparameters.update({\n",
    "        #         \"max_depth\" : details(\"max_depth\"),\n",
    "        #         \"min_samples_leaf\" : details(\"min_samples_per_leaf\")\n",
    "        #         \"splitter\": \"best\" if details.get(\"use_best\") else \"random\"\n",
    "        #     })\n",
    "        # elif model_name == \"Decision Tree\" and algorithms == \"DecisionTreeClassifier\":\n",
    "        #     hyperparameters.update({\n",
    "        #         \"max_depth\" : details(\"max_depth\"),\n",
    "        #         \"min_samples_leaf\" : details(\"min_samples_per_leaf\"),\n",
    "        #         \"splitter\" : \"random\" if details.get(\"use_random\") else \"best\",\n",
    "        #         \"criterion\" : \"entropy\" if details.get(\"use_entropy\") else \"gini\"\n",
    "        #     })\n",
    "        # elif model_name == \"Support Vector Machine\":\n",
    "        #     hyperparameters.update({\n",
    "        #         \"kernel\" : \"linear\" if details.get(\"linear_kernel\") else (\"precomputed\" if details.get(\"rep_kernel\") else (\"poly\" if details.get(\"polynomial_kernel\") else (\"sigmoid\" if details.get(\"sigmoid_kernel\") else \"rbf\"))),\n",
    "        #         \"C\" : details.get(\"c_value\")\n",
    "        #     })\n",
    "        # # Adding the model name and adjusting hyperparameters to selected_algorithms dictionary\n",
    "        # selected_algorithms[model_name] = hyperparameters"
   ]
  },
  {
   "cell_type": "markdown",
   "id": "925c4aa6-f865-48a9-a106-dc89ce60d9f0",
   "metadata": {},
   "source": [
    "### Fetching the Hyperparameters"
   ]
  },
  {
   "cell_type": "code",
   "execution_count": 59,
   "id": "6db429a9-d081-43d2-85f2-e6d56bcc56d2",
   "metadata": {},
   "outputs": [],
   "source": [
    "param_grids = {\n",
    "    \"Random Forest Classifier\": {\n",
    "        \"n_estimators\" : list(range(config.get(\"design_state_data\").get(\"algorithms\").get(\"RandomForestClassifier\").get(\"min_trees\") , config.get(\"design_state_data\").get(\"algorithms\").get(\"RandomForestClassifier\").get(\"max_trees\"))),\n",
    "        \"max_depth\" : [None, config.get(\"design_state_data\").get(\"algorithms\").get(\"RandomForestClassifier\").get(\"min_depth\"), config.get(\"design_state_data\").get(\"algorithms\").get(\"RandomForestClassifier\").get(\"max_depth\")],\n",
    "        \"min_samples_split\" : [2, 5, 10],\n",
    "        \"min_samples_leaf\" : list(range(config.get(\"design_state_data\").get(\"algorithms\").get(\"RandomForestClassifier\").get(\"min_samples_per_leaf_min_value\") , config.get(\"design_state_data\").get(\"algorithms\").get(\"RandomForestClassifier\").get(\"min_samples_per_leaf_max_value\"))),\n",
    "        \"n_jobs\" : [None if config.get(\"design_state_data\").get(\"algorithms\").get(\"RandomForestClassifier\").get(\"parallelism\") == 0 else config.get(\"design_state_data\").get(\"algorithms\").get(\"RandomForestClassifier\").get(\"parallelism\")]\n",
    "    },\n",
    "    \"Random Forest Regressor\": {\n",
    "        \"n_estimators\" : list(range(config.get(\"design_state_data\").get(\"algorithms\").get(\"RandomForestRegressor\").get(\"min_trees\") , config.get(\"design_state_data\").get(\"algorithms\").get(\"RandomForestRegressor\").get(\"max_trees\"))),\n",
    "        \"max_depth\" : [None, config.get(\"design_state_data\").get(\"algorithms\").get(\"RandomForestRegressor\").get(\"min_depth\"), config.get(\"design_state_data\").get(\"algorithms\").get(\"RandomForestRegressor\").get(\"max_depth\")],\n",
    "        \"min_samples_split\" : [2, 5, 10],\n",
    "        \"min_samples_leaf\" : list(range(config.get(\"design_state_data\").get(\"algorithms\").get(\"RandomForestRegressor\").get(\"min_samples_per_leaf_min_value\") , config.get(\"design_state_data\").get(\"algorithms\").get(\"RandomForestRegressor\").get(\"min_samples_per_leaf_max_value\"))),\n",
    "        \"n_jobs\" : [None if config.get(\"design_state_data\").get(\"algorithms\").get(\"RandomForestRegressor\").get(\"parallelism\") == 0 else config.get(\"design_state_data\").get(\"algorithms\").get(\"RandomForestRegressor\").get(\"parallelism\")]\n",
    "    },\n",
    "    \"LinearRegression\": {\n",
    "        \"l1_ratio\" : [range(int(config.get(\"design_state_data\").get(\"algorithms\").get(\"LinearRegression\").get(\"min_elasticnet\")), int(config.get(\"design_state_data\").get(\"algorithms\").get(\"LinearRegression\").get(\"max_elasticnet\")))],\n",
    "        \"alpha\" : [range(int(config.get(\"design_state_data\").get(\"algorithms\").get(\"LinearRegression\").get(\"min_regparam\")), int(config.get(\"design_state_data\").get(\"algorithms\").get(\"LinearRegression\").get(\"max_regparam\")))],\n",
    "        \"max_iter\" : [range(config.get(\"design_state_data\").get(\"algorithms\").get(\"LinearRegression\").get(\"min_iter\"), config.get(\"design_state_data\").get(\"algorithms\").get(\"LinearRegression\").get(\"max_iter\"))],\n",
    "        \"n_jobs\" : [None if config.get(\"design_state_data\").get(\"algorithms\").get(\"LinearRegression\").get(\"parallelism\") == 0 else config.get(\"design_state_data\").get(\"algorithms\").get(\"LinearRegression\").get(\"parallelism\")]\n",
    "    },\n",
    "    \"LogisticRegression\": {\n",
    "        \"l1_ratio\" : [range(int(config.get(\"design_state_data\").get(\"algorithms\").get(\"LogisticRegression\").get(\"min_elasticnet\")), int(config.get(\"design_state_data\").get(\"algorithms\").get(\"LogisticRegression\").get(\"max_elasticnet\")))],\n",
    "        \"alpha\" : [range(int(config.get(\"design_state_data\").get(\"algorithms\").get(\"LogisticRegression\").get(\"min_regparam\")), int(config.get(\"design_state_data\").get(\"algorithms\").get(\"LogisticRegression\").get(\"max_regparam\")))],\n",
    "        \"max_iter\" : [range(config.get(\"design_state_data\").get(\"algorithms\").get(\"LogisticRegression\").get(\"min_iter\"), config.get(\"design_state_data\").get(\"algorithms\").get(\"LogisticRegression\").get(\"max_iter\"))],\n",
    "        \"n_jobs\" : [None if config.get(\"design_state_data\").get(\"algorithms\").get(\"LogisticRegression\").get(\"parallelism\") == 0 else config.get(\"design_state_data\").get(\"algorithms\").get(\"LogisticRegression\").get(\"parallelism\")]\n",
    "    },\n",
    "    \"RidgeRegression\": {\n",
    "        \"alpha\" : [range(int(config.get(\"design_state_data\").get(\"algorithms\").get(\"RidgeRegression\").get(\"min_regparam\")), int(config.get(\"design_state_data\").get(\"algorithms\").get(\"RidgeRegression\").get(\"max_regparam\")))],\n",
    "        \"max_iter\" : [range(config.get(\"design_state_data\").get(\"algorithms\").get(\"RidgeRegression\").get(\"min_iter\"), config.get(\"design_state_data\").get(\"algorithms\").get(\"RidgeRegression\").get(\"max_iter\"))]\n",
    "    },\n",
    "    \"LassoRegression\": {\n",
    "        \"alpha\" : [range(int(config.get(\"design_state_data\").get(\"algorithms\").get(\"LassoRegression\").get(\"min_regparam\")), int(config.get(\"design_state_data\").get(\"algorithms\").get(\"LassoRegression\").get(\"max_regparam\")))],\n",
    "        \"max_iter\" : [range(config.get(\"design_state_data\").get(\"algorithms\").get(\"LassoRegression\").get(\"min_iter\"), config.get(\"design_state_data\").get(\"algorithms\").get(\"LassoRegression\").get(\"max_iter\"))]\n",
    "    },\n",
    "    \"ElasticNetRegression\": {\n",
    "        \"l1_ratio\" : [range(int(config.get(\"design_state_data\").get(\"algorithms\").get(\"ElasticNetRegression\").get(\"min_elasticnet\")), int(config.get(\"design_state_data\").get(\"algorithms\").get(\"ElasticNetRegression\").get(\"max_elasticnet\")))],\n",
    "        \"alpha\" : [range(int(config.get(\"design_state_data\").get(\"algorithms\").get(\"ElasticNetRegression\").get(\"min_regparam\")), int(config.get(\"design_state_data\").get(\"algorithms\").get(\"ElasticNetRegression\").get(\"max_regparam\")))],\n",
    "        \"max_iter\" : [range(config.get(\"design_state_data\").get(\"algorithms\").get(\"ElasticNetRegression\").get(\"min_iter\"), config.get(\"design_state_data\").get(\"algorithms\").get(\"ElasticNetRegression\").get(\"max_iter\"))]\n",
    "    },\n",
    "    \"xg_boost\": {\n",
    "        \"booster\" : [\"gbtree\" if config.get(\"design_state_data\").get(\"algorithms\").get(\"xg_boost\").get(\"gbtree\") else (\"gblinear\" if config.get(\"design_state_data\").get(\"algorithms\").get(\"xg_boost\").get(\"gblinear\") else \"dart\")],\n",
    "        \"random_state\" : [config.get(\"design_state_data\").get(\"algorithms\").get(\"xg_boost\").get(\"random_state\")],\n",
    "        \"early_stopping_rounds\" : [None if config.get(\"design_state_data\").get(\"algorithms\").get(\"xg_boost\").get(\"early_stopping_rounds\") == 0 else config.get(\"design_state_data\").get(\"algorithms\").get(\"xg_boost\").get(\"early_stopping_rounds\")],\n",
    "        \"max_depth_of_tree\" : config.get(\"design_state_data\").get(\"algorithms\").get(\"xg_boost\").get(\"max_depth_of_tree\"),\n",
    "        \"learningRate\" : config.get(\"design_state_data\").get(\"algorithms\").get(\"xg_boost\").get(\"learningRate\"),\n",
    "        \"reg_alpha\" : config.get(\"design_state_data\").get(\"algorithms\").get(\"xg_boost\").get(\"l1_regularization\"),\n",
    "        \"reg_lambda\" : config.get(\"design_state_data\").get(\"algorithms\").get(\"xg_boost\").get(\"l2_regularization\"),\n",
    "        \"gamma\" : config.get(\"design_state_data\").get(\"algorithms\").get(\"xg_boost\").get(\"gamma\"),\n",
    "        \"min_child_weight\" : config.get(\"design_state_data\").get(\"algorithms\").get(\"xg_boost\").get(\"min_child_weight\"),\n",
    "        \"subsample\" : config.get(\"design_state_data\").get(\"algorithms\").get(\"xg_boost\").get(\"subsample\"),\n",
    "        \"colsample_bytree\" : config.get(\"design_state_data\").get(\"algorithms\").get(\"xg_boost\").get(\"col_sample_by_tree\"),\n",
    "        \"n_jobs\" : [None if config.get(\"design_state_data\").get(\"algorithms\").get(\"xg_boost\").get(\"parallelism\") == 0 else config.get(\"design_state_data\").get(\"algorithms\").get(\"xg_boost\").get(\"parallelism\")]\n",
    "    },\n",
    "    \"Decision Tree\": {\n",
    "        \"max_depth\": [None, config.get(\"design_state_data\").get(\"algorithms\").get(\"DecisionTreeClassifier\").get(\"min_depth\"), config.get(\"design_state_data\").get(\"algorithms\").get(\"DecisionTreeClassifier\").get(\"max_depth\")],\n",
    "        \"min_samples_split\": [2, 5, 10],\n",
    "        \"min_samples_leaf\": config.get(\"design_state_data\").get(\"algorithms\").get(\"DecisionTreeClassifier\").get(\"min_samples_per_leaf\"),\n",
    "        \"criterion\" : [\"entropy\" if config.get(\"design_state_data\").get(\"algorithms\").get(\"DecisionTreeClassifier\").get(\"use_entropy\") else \"gini\"],\n",
    "        \"splitter\" : [\"random\" if config.get(\"design_state_data\").get(\"algorithms\").get(\"DecisionTreeClassifier\").get(\"use_random\") else \"best\"]\n",
    "    },\n",
    "    \"Decision Tree Regressor\": {\n",
    "        'max_depth': [None, 10, 20],\n",
    "        'min_samples_split': [2, 5, 10],\n",
    "        'min_samples_leaf': [1, 2, 4]\n",
    "    },\n",
    "    \"SVM\" : {\n",
    "        'C': config.get(\"design_state_data\").get(\"algorithms\").get(\"SVM\").get(\"c_value\"),\n",
    "        'kernel': [\"linear\" if config.get(\"design_state_data\").get(\"algorithms\").get(\"SVM\").get(\"linear_kernel\") else None, \"poly\" if config.get(\"design_state_data\").get(\"algorithms\").get(\"SVM\").get(\"polynomial_kernel\") else None, \"sigmoid\" if config.get(\"design_state_data\").get(\"algorithms\").get(\"SVM\").get(\"sigmoid_kernel\") else None, \"rbf\" if config.get(\"design_state_data\").get(\"algorithms\").get(\"SVM\").get(\"rbf_kernel\") else None],\n",
    "        'gamma': [\"scale\" if config.get(\"design_state_data\").get(\"algorithms\").get(\"SVM\").get(\"scale\") else None, \"auto\" if config.get(\"design_state_data\").get(\"algorithms\").get(\"SVM\").get(\"auto\") else None],\n",
    "    },\n",
    "    \"KNN\" : {\n",
    "        \"n_neighbors\" : config.get(\"design_state_data\").get(\"algorithms\").get(\"KNN\").get(\"k_value\"),\n",
    "        \"weights\" : [\"distance\" if config.get(\"design_state_data\").get(\"algorithms\").get(\"KNN\").get(\"distance_weighting\") else \"uniform\"],\n",
    "        \"algorithms\" : [\"ball_tree\"if config.get(\"design_state_data\").get(\"algorithms\").get(\"KNN\").get(\"neighbour_finding_algorithm\") == \"ball_tree\" else (\"kd_tree\"if config.get(\"design_state_data\").get(\"algorithms\").get(\"KNN\").get(\"neighbour_finding_algorithm\") == \"kd_tree\" else (\"brute\"if config.get(\"design_state_data\").get(\"algorithms\").get(\"KNN\").get(\"neighbour_finding_algorithm\") == \"brute\" else (\"auto\")))],\n",
    "        \"random_state\" : [config.get(\"design_state_data\").get(\"algorithms\").get(\"KNN\").get(\"random_state\")],\n",
    "        \"p\" : [config.get(\"design_state_data\").get(\"algorithms\").get(\"KNN\").get(\"p_value\")]\n",
    "    },\n",
    "    \"Neural Network\" : {\n",
    "        \"hidden_layer_sizes\" : config.get(\"design_state_data\").get(\"algorithms\").get(\"neural_network\").get(\"hidden_layer_sizes\"),\n",
    "        \"activation\" : [\"identity\"if config.get(\"design_state_data\").get(\"algorithms\").get(\"neural_network\").get(\"activation\") == \"identity\" else (\"logistic\"if config.get(\"design_state_data\").get(\"algorithms\").get(\"neural_network\").get(\"activation\") == \"logistic\" else (\"tanh\"if config.get(\"design_state_data\").get(\"algorithms\").get(\"neural_network\").get(\"activation\") == \"tanh\" else (\"relu\")))],\n",
    "        \"alpha\" : [config.get(\"design_state_data\").get(\"algorithms\").get(\"neural_network\").get(\"alpha_value\")],\n",
    "        \"max_iter\" : [config.get(\"design_state_data\").get(\"algorithms\").get(\"neural_network\").get(\"max_iterations\")],\n",
    "        \"tol\" : [config.get(\"design_state_data\").get(\"algorithms\").get(\"neural_network\").get(\"convergence_tolerance\")],\n",
    "        \"early_stopping\" : [config.get(\"design_state_data\").get(\"algorithms\").get(\"neural_network\").get(\"early_stopping\")],\n",
    "        \"solver\" : [config.get(\"design_state_data\").get(\"algorithms\").get(\"neural_network\").get(\"solver\")],\n",
    "        \"shuffle\" : [config.get(\"design_state_data\").get(\"algorithms\").get(\"neural_network\").get(\"shuffle_data\")],\n",
    "        \"learning_rate_init\" : [config.get(\"design_state_data\").get(\"algorithms\").get(\"neural_network\").get(\"initial_learning_rate\")],\n",
    "        \"batch_size\" : [\"auto\" if config.get(\"design_state_data\").get(\"algorithms\").get(\"neural_network\").get(\"automatic_batching\") else (\"full\" if config.get(\"design_state_data\").get(\"algorithms\").get(\"neural_network\").get(\"full_batching\") else (config.get(\"design_state_data\").get(\"algorithms\").get(\"neural_network\").get(\"batch_size\")))],\n",
    "        \"beta_1\": [config.get(\"design_state_data\").get(\"algorithms\").get(\"neural_network\").get(\"beta_1\")],\n",
    "        \"beta_2\": [config.get(\"design_state_data\").get(\"algorithms\").get(\"neural_network\").get(\"automatic_batching\")],\n",
    "        \"epsilon\": [config.get(\"design_state_data\").get(\"algorithms\").get(\"neural_network\").get(\"beta_2\")],\n",
    "        \"power_t\": [config.get(\"design_state_data\").get(\"algorithms\").get(\"neural_network\").get(\"power_t\")],\n",
    "        \"momentum\": [config.get(\"design_state_data\").get(\"algorithms\").get(\"neural_network\").get(\"momentum\")],\n",
    "        \"nesterovs_momentum\" : [config.get(\"design_state_data\").get(\"algorithms\").get(\"neural_network\").get(\"use_nesterov_momentum\")]\n",
    "    }\n",
    "}"
   ]
  },
  {
   "cell_type": "markdown",
   "id": "0541719e-4367-4cd4-abdf-7845cbf2a1d6",
   "metadata": {},
   "source": [
    "### Hyperparameter tuning of all the models"
   ]
  },
  {
   "cell_type": "code",
   "execution_count": 60,
   "id": "40b5b88b-058c-43a1-8667-4c1a1846b952",
   "metadata": {},
   "outputs": [
    {
     "name": "stdout",
     "output_type": "stream",
     "text": [
      "Best hyperparameters for Random Forest Classifier : {'max_depth': 30, 'min_samples_leaf': 11, 'min_samples_split': 5, 'n_estimators': 13, 'n_jobs': None}\n",
      "Best accuracy : 0.9583333333333334\n",
      "Test accuracy : 0.9\n",
      "\n",
      "Best hyperparameters for Decision Tree : {'criterion': 'entropy', 'max_depth': None, 'min_samples_leaf': 12, 'min_samples_split': 2, 'splitter': 'best'}\n",
      "Best accuracy : 0.95\n",
      "Test accuracy : 0.9333333333333333\n",
      "\n"
     ]
    }
   ],
   "source": [
    "# Iterate over selected model families and model names\n",
    "for model_family, model_name in selected_algorithms.items():\n",
    "    # Get the class corresponding to the model name\n",
    "    model_class = model_classes.get(model_name)\n",
    "    \n",
    "    # Check if model_class is not None\n",
    "    if model_class is not None:\n",
    "        \n",
    "        # Initialize the model\n",
    "        model = model_class()\n",
    "        \n",
    "        # Define the parameter grid for the model\n",
    "        param_grid = param_grids[model_name]\n",
    "        \n",
    "        # Define Scoring \n",
    "        if is_classifier(model):\n",
    "            # For classification tasks\n",
    "            scoring = 'accuracy'\n",
    "        else:\n",
    "            # For regression tasks\n",
    "            scoring = 'neg_mean_squared_error'\n",
    "        \n",
    "        # Initialize GridSearchCV with the model and hyperparameters\n",
    "        grid_search = GridSearchCV(estimator=model, param_grid=param_grid, scoring=scoring, cv=5)\n",
    "        \n",
    "        # Fit the GridSearchCV object to the training data\n",
    "        grid_search.fit(X_train, y_train)\n",
    "        \n",
    "        # Print the best hyperparameters found\n",
    "        print(\"Best hyperparameters for\", model_name, \":\", grid_search.best_params_)\n",
    "        \n",
    "        # Print the best score found\n",
    "        print(\"Best\", scoring, \":\", grid_search.best_score_)\n",
    "\n",
    "        # Evaluate the model on the test set\n",
    "        test_score = grid_search.score(X_test, y_test)\n",
    "        print(\"Test\", scoring, \":\", test_score)\n",
    "        print()\n",
    "        \n",
    "    else:\n",
    "        print(f\"Model class for '{model_name}' not found in model_classes dictionary.\")\n"
   ]
  }
 ],
 "metadata": {
  "kernelspec": {
   "display_name": "Python 3 (ipykernel)",
   "language": "python",
   "name": "python3"
  },
  "language_info": {
   "codemirror_mode": {
    "name": "ipython",
    "version": 3
   },
   "file_extension": ".py",
   "mimetype": "text/x-python",
   "name": "python",
   "nbconvert_exporter": "python",
   "pygments_lexer": "ipython3",
   "version": "3.11.7"
  }
 },
 "nbformat": 4,
 "nbformat_minor": 5
}
